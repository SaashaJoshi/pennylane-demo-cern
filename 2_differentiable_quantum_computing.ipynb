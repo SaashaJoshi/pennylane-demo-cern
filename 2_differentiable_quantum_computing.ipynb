{
  "nbformat": 4,
  "nbformat_minor": 0,
  "metadata": {
    "colab": {
      "name": "2-differentiable-quantum-computing.ipynb",
      "provenance": [],
      "collapsed_sections": [],
      "include_colab_link": true
    },
    "kernelspec": {
      "display_name": "cern_tutorial",
      "language": "python",
      "name": "cern_tutorial"
    },
    "language_info": {
      "codemirror_mode": {
        "name": "ipython",
        "version": 3
      },
      "file_extension": ".py",
      "mimetype": "text/x-python",
      "name": "python",
      "nbconvert_exporter": "python",
      "pygments_lexer": "ipython3",
      "version": "3.8.5"
    }
  },
  "cells": [
    {
      "cell_type": "markdown",
      "metadata": {
        "id": "view-in-github",
        "colab_type": "text"
      },
      "source": [
        "<a href=\"https://colab.research.google.com/github/SaashaJoshi/pennylane-demo-cern/blob/main/2_differentiable_quantum_computing.ipynb\" target=\"_parent\"><img src=\"https://colab.research.google.com/assets/colab-badge.svg\" alt=\"Open In Colab\"/></a>"
      ]
    },
    {
      "cell_type": "code",
      "metadata": {
        "id": "nTR6KaDYI86X"
      },
      "source": [
        "%%capture\n",
        "\n",
        "# Comment this out if you don't want to install pennylane from this notebook\n",
        "!pip install pennylane\n",
        "\n",
        "# Comment this out if you don't want to install matplotlib from this notebook\n",
        "!pip install matplotlib"
      ],
      "execution_count": 1,
      "outputs": []
    },
    {
      "cell_type": "markdown",
      "metadata": {
        "id": "ViJy_slwI86e"
      },
      "source": [
        "# Differentiable quantum computing with PennyLane\n",
        "\n",
        "In this tutorial we will:\n",
        "\n",
        "* learn step-by-step how quantum computations are implemented in PennyLane,\n",
        "* understand parameter-dependent quantum computations (\"variational circuits\"), \n",
        "* build our first quantum machine learning model, and\n",
        "* compute its gradient.\n",
        "\n",
        "We need the following imports:"
      ]
    },
    {
      "cell_type": "code",
      "metadata": {
        "id": "gym_3cbziWfK"
      },
      "source": [
        "import pennylane as qml\n",
        "from pennylane import numpy as np"
      ],
      "execution_count": 2,
      "outputs": []
    },
    {
      "cell_type": "markdown",
      "metadata": {
        "id": "j0takToZI86f"
      },
      "source": [
        "## 1. Quantum nodes"
      ]
    },
    {
      "cell_type": "markdown",
      "metadata": {
        "id": "3u-3eEPchh3N"
      },
      "source": [
        "In PennyLane, a *quantum node* is a computational unit that involves the construction, evaluation, pre- and postprocessing of quantum computations.\n",
        "\n",
        "A quantum node consists of a *quantum function* that defines a circuit, as well as a *device* on which it is run. \n",
        "\n",
        "There is a growing [device ecosystem](https://pennylane.ai/plugins.html) which allows you to change only one line of code to dispatch your quantum computation to local simulators, remote simulators and remote hardware from different vendors.\n",
        "\n",
        "Here we will use the built-in `default.qubit` device."
      ]
    },
    {
      "cell_type": "code",
      "metadata": {
        "id": "WfIzfl6hI86f"
      },
      "source": [
        "dev = qml.device('default.qubit', wires=2)"
      ],
      "execution_count": 3,
      "outputs": []
    },
    {
      "cell_type": "markdown",
      "metadata": {
        "id": "QTuX7hJqVgLX"
      },
      "source": [
        "To combine the device with a quantum function to a quantum node we can use the `qml.qnode` decorator. The function can then be evaluated as if it was any other python function. Internally, it will construct a circuit and run it on the device."
      ]
    },
    {
      "cell_type": "code",
      "metadata": {
        "id": "ePtdx35pVgLX",
        "colab": {
          "base_uri": "https://localhost:8080/"
        },
        "outputId": "2e2241f5-b1bf-4320-c7b2-0476240a08f4"
      },
      "source": [
        "@qml.qnode(dev)\n",
        "def circuit():\n",
        "    qml.Hadamard(wires=0)\n",
        "    return qml.probs(wires=[0, 1])\n",
        "\n",
        "circuit()\n",
        "# requires_grad means that this function is no different than the sin function we made in the first notebook.\n",
        "# This is a tensor that can have a gradient. \n",
        "# Tensor made by pennylane wrapper of numpy!"
      ],
      "execution_count": 4,
      "outputs": [
        {
          "output_type": "execute_result",
          "data": {
            "text/plain": [
              "tensor([0.5, 0. , 0.5, 0. ], requires_grad=True)"
            ]
          },
          "metadata": {
            "tags": []
          },
          "execution_count": 4
        }
      ]
    },
    {
      "cell_type": "markdown",
      "metadata": {
        "id": "wA2NBzgjVgLY"
      },
      "source": [
        "## 2. Building quantum circuits"
      ]
    },
    {
      "cell_type": "markdown",
      "metadata": {
        "id": "B7QxsiAdI86g"
      },
      "source": [
        "### The initial state\n",
        "\n",
        "<br />\n",
        "<img src=\"https://github.com/XanaduAI/pennylane-demo-cern/blob/main/figures/1.png?raw=1\" width=\"500\" height=\"100\">\n",
        "<br />\n",
        "\n",
        "The initial state has 100% probability to be measured in the \"0..0\" configuration. Let's see how we can verify this with PennyLane."
      ]
    },
    {
      "cell_type": "code",
      "metadata": {
        "colab": {
          "base_uri": "https://localhost:8080/"
        },
        "id": "0uWBZqMsI86g",
        "outputId": "84d3d401-c4fb-4ba2-a2a5-63804c6a6d00"
      },
      "source": [
        "@qml.qnode(dev)\n",
        "def circuit():\n",
        "    return qml.probs(wires=[0, 1])\n",
        "\n",
        "circuit()\n",
        "# Gives \\ket{0}"
      ],
      "execution_count": 5,
      "outputs": [
        {
          "output_type": "execute_result",
          "data": {
            "text/plain": [
              "tensor([1., 0., 0., 0.], requires_grad=True)"
            ]
          },
          "metadata": {
            "tags": []
          },
          "execution_count": 5
        }
      ]
    },
    {
      "cell_type": "markdown",
      "metadata": {
        "id": "4vYHmef8I86h"
      },
      "source": [
        "The internal state vector that we use to mathematically keep track of probabilities is complex-valued. Since `default.qubit` is a simulator we can have a look at the state, for example by checking the device's `state` attribute."
      ]
    },
    {
      "cell_type": "code",
      "metadata": {
        "colab": {
          "base_uri": "https://localhost:8080/"
        },
        "id": "a3sx1keQI86h",
        "outputId": "8ad7c4e7-b4e2-408b-d770-5945eaa706de"
      },
      "source": [
        "dev.state\n",
        "# \\ket{0}"
      ],
      "execution_count": 6,
      "outputs": [
        {
          "output_type": "execute_result",
          "data": {
            "text/plain": [
              "tensor([1.+0.j, 0.+0.j, 0.+0.j, 0.+0.j], requires_grad=True)"
            ]
          },
          "metadata": {
            "tags": []
          },
          "execution_count": 6
        }
      ]
    },
    {
      "cell_type": "markdown",
      "metadata": {
        "id": "8T72-1F-I86i"
      },
      "source": [
        "### Unitary evolutions\n",
        "\n",
        "<br />\n",
        "<img src=\"https://github.com/XanaduAI/pennylane-demo-cern/blob/main/figures/2.png?raw=1\" width=\"500\">\n",
        "<br />\n",
        "\n",
        "Quantum circuits are represented by unitary matrices. We can evolve the initial state by an arbitrary unitrary matrix as follows:"
      ]
    },
    {
      "cell_type": "code",
      "metadata": {
        "colab": {
          "base_uri": "https://localhost:8080/"
        },
        "id": "pR2xQvESI86i",
        "outputId": "d65fccc9-f994-4b6c-a9c0-ee8293aab4b6"
      },
      "source": [
        "# Constructing a custom unitary gate.\n",
        "s = 1/np.sqrt(2)\n",
        "U = np.array([[0., -s, 0.,  s],\n",
        "              [ s, 0., -s, 0.],\n",
        "              [ s, 0.,  s, 0.],\n",
        "              [0., -s, 0., -s]])\n",
        "\n",
        "@qml.qnode(dev)\n",
        "def circuit():\n",
        "    qml.QubitUnitary(U, wires=[0, 1])\n",
        "    return qml.probs(wires=[0, 1])\n",
        "\n",
        "circuit()"
      ],
      "execution_count": 7,
      "outputs": [
        {
          "output_type": "execute_result",
          "data": {
            "text/plain": [
              "tensor([0. , 0.5, 0.5, 0. ], requires_grad=True)"
            ]
          },
          "metadata": {
            "tags": []
          },
          "execution_count": 7
        }
      ]
    },
    {
      "cell_type": "markdown",
      "metadata": {
        "id": "y1Lz95Lvi4nh"
      },
      "source": [
        "The internal quantum state changed."
      ]
    },
    {
      "cell_type": "code",
      "metadata": {
        "colab": {
          "base_uri": "https://localhost:8080/"
        },
        "id": "WGRCAysbI86i",
        "outputId": "797a18cf-b344-4d1d-d03c-543770259a6b"
      },
      "source": [
        "dev.state\n",
        "# Produces an entangled state. (1/\\sqrt{2})[0, 1, 1, 0]"
      ],
      "execution_count": 8,
      "outputs": [
        {
          "output_type": "execute_result",
          "data": {
            "text/plain": [
              "tensor([0.        +0.j, 0.70710678+0.j, 0.70710678+0.j, 0.        +0.j], requires_grad=True)"
            ]
          },
          "metadata": {
            "tags": []
          },
          "execution_count": 8
        }
      ]
    },
    {
      "cell_type": "markdown",
      "metadata": {
        "id": "j5D8HN8nI86j"
      },
      "source": [
        "### Measurements sample outcomes from the distribution\n",
        "\n",
        "<br />\n",
        "<img src=\"https://github.com/XanaduAI/pennylane-demo-cern/blob/main/figures/3.png?raw=1\" width=\"500\">\n",
        "<br />\n",
        "\n",
        "The most common measurement takes samples $-1, 1$ from the \"Pauli-Z\" observable. The samples indicate if the qubit was measured in state $| 0 \\rangle$ or $| 1 \\rangle$."
      ]
    },
    {
      "cell_type": "code",
      "metadata": {
        "colab": {
          "base_uri": "https://localhost:8080/"
        },
        "id": "BFFaTmh6I86j",
        "outputId": "93a924b9-6387-4d2a-b03b-b23578c09226"
      },
      "source": [
        "@qml.qnode(dev)\n",
        "def circuit():\n",
        "    qml.QubitUnitary(U, wires=[0, 1])\n",
        "    return qml.sample(qml.PauliZ(wires=0)), qml.sample(qml.PauliZ(wires=1))\n",
        "\n",
        "circuit()\n",
        "# Apply Pauli operators!"
      ],
      "execution_count": 9,
      "outputs": [
        {
          "output_type": "execute_result",
          "data": {
            "text/plain": [
              "tensor([[-1,  1,  1, ..., -1,  1, -1],\n",
              "        [ 1, -1, -1, ...,  1, -1,  1]], requires_grad=True)"
            ]
          },
          "metadata": {
            "tags": []
          },
          "execution_count": 9
        }
      ]
    },
    {
      "cell_type": "markdown",
      "metadata": {
        "id": "SKNa1k2eixFC"
      },
      "source": [
        "The quantum state should be still the same as above."
      ]
    },
    {
      "cell_type": "code",
      "metadata": {
        "colab": {
          "base_uri": "https://localhost:8080/"
        },
        "id": "kOpi8-62I86j",
        "outputId": "8cacedcd-3095-4828-ce2e-6d78702ed083"
      },
      "source": [
        "dev.state"
      ],
      "execution_count": 10,
      "outputs": [
        {
          "output_type": "execute_result",
          "data": {
            "text/plain": [
              "tensor([0.        +0.j, 0.70710678+0.j, 0.70710678+0.j, 0.        +0.j], requires_grad=True)"
            ]
          },
          "metadata": {
            "tags": []
          },
          "execution_count": 10
        }
      ]
    },
    {
      "cell_type": "markdown",
      "metadata": {
        "id": "BPSoH3ddI86k"
      },
      "source": [
        "### Computing expectation values \n",
        "\n",
        "<br />\n",
        "<img src=\"https://github.com/XanaduAI/pennylane-demo-cern/blob/main/figures/4.png?raw=1\" width=\"500\">\n",
        "<br />\n",
        "\n",
        "When we want outputs of computations to be deterministic, we often interpret the expected measurement outcome as the result. This value is estimated by taking lots of samples and averaging over them."
      ]
    },
    {
      "cell_type": "code",
      "metadata": {
        "colab": {
          "base_uri": "https://localhost:8080/"
        },
        "id": "BTKPBpR3I86k",
        "outputId": "5818ced8-6fe2-47fb-dd22-c9b7b3ba4435"
      },
      "source": [
        "@qml.qnode(dev)\n",
        "def circuit():\n",
        "    qml.QubitUnitary(U, wires=[0, 1])\n",
        "    return qml.expval(qml.PauliZ(wires=0)), qml.expval(qml.PauliZ(wires=1))\n",
        "\n",
        "circuit()"
      ],
      "execution_count": 11,
      "outputs": [
        {
          "output_type": "execute_result",
          "data": {
            "text/plain": [
              "tensor([0., 0.], requires_grad=True)"
            ]
          },
          "metadata": {
            "tags": []
          },
          "execution_count": 11
        }
      ]
    },
    {
      "cell_type": "markdown",
      "metadata": {
        "id": "TWenlG1AjJhu"
      },
      "source": [
        "Again, the quantum state should be the same as above."
      ]
    },
    {
      "cell_type": "code",
      "metadata": {
        "colab": {
          "base_uri": "https://localhost:8080/"
        },
        "id": "aSJl64R-I86k",
        "outputId": "14d07aa8-e914-4667-c1aa-c3316e207418"
      },
      "source": [
        "dev.state"
      ],
      "execution_count": 12,
      "outputs": [
        {
          "output_type": "execute_result",
          "data": {
            "text/plain": [
              "tensor([0.        +0.j, 0.70710678+0.j, 0.70710678+0.j, 0.        +0.j], requires_grad=True)"
            ]
          },
          "metadata": {
            "tags": []
          },
          "execution_count": 12
        }
      ]
    },
    {
      "cell_type": "markdown",
      "metadata": {
        "id": "KNiKBEjrI86l"
      },
      "source": [
        "### Quantum circuits are decomposed into gates\n",
        "\n",
        "<br />\n",
        "<img src=\"https://github.com/XanaduAI/pennylane-demo-cern/blob/main/figures/5.png?raw=1\" width=\"500\">\n",
        "<br />\n",
        "\n",
        "Quantum circuits rarely consist of one large unitary (which quickly becomes intractably large as the number of qubits grow). Instead, they are composed of *quantum gates*."
      ]
    },
    {
      "cell_type": "code",
      "metadata": {
        "colab": {
          "base_uri": "https://localhost:8080/"
        },
        "id": "Eoie7lnlI86l",
        "outputId": "7e4b6396-3d8f-430f-d6ed-0f64389e5478"
      },
      "source": [
        "@qml.qnode(dev)\n",
        "def circuit():\n",
        "    qml.PauliX(wires=0)\n",
        "    qml.CNOT(wires=[0,1])\n",
        "    qml.Hadamard(wires=0)\n",
        "    qml.PauliZ(wires=1)\n",
        "    return qml.expval(qml.PauliZ(wires=0)), qml.expval(qml.PauliZ(wires=1))\n",
        "\n",
        "circuit()\n",
        "# Apply quantum gates in this cell!"
      ],
      "execution_count": 13,
      "outputs": [
        {
          "output_type": "execute_result",
          "data": {
            "text/plain": [
              "tensor([ 0., -1.], requires_grad=True)"
            ]
          },
          "metadata": {
            "tags": []
          },
          "execution_count": 13
        }
      ]
    },
    {
      "cell_type": "markdown",
      "metadata": {
        "id": "IxU2qPYcI86l"
      },
      "source": [
        "### Some gates depend on \"control\" parameters\n",
        "\n",
        "<br />\n",
        "<img src=\"https://github.com/XanaduAI/pennylane-demo-cern/blob/main/figures/6.png?raw=1\" width=\"500\">\n",
        "<br />\n",
        "\n",
        "To train circuits, there is a special subset of gates which is of particular interest: the Pauli rotation gates. These \"rotate\" a special representation of the quantum state around a specific axis. The gates depend on a scalar parameter which is the angle of the rotation. "
      ]
    },
    {
      "cell_type": "code",
      "metadata": {
        "id": "YwKk_sWmI86m",
        "colab": {
          "base_uri": "https://localhost:8080/"
        },
        "outputId": "ae970656-d6f2-4949-cbea-c82982b8c61a"
      },
      "source": [
        "@qml.qnode(dev)\n",
        "def circuit(w1, w2):\n",
        "    qml.RX(w1, wires=0)\n",
        "    qml.CNOT(wires=[0,1])\n",
        "    qml.RY(w2, wires=1)\n",
        "    return qml.expval(qml.PauliZ(wires=0)), qml.expval(qml.PauliZ(wires=1))\n",
        "\n",
        "circuit(0.2, 1.3)"
      ],
      "execution_count": 14,
      "outputs": [
        {
          "output_type": "execute_result",
          "data": {
            "text/plain": [
              "tensor([0.98006658, 0.26216666], requires_grad=True)"
            ]
          },
          "metadata": {
            "tags": []
          },
          "execution_count": 14
        }
      ]
    },
    {
      "cell_type": "markdown",
      "metadata": {
        "id": "Oi_0wM9rI86m"
      },
      "source": [
        "The names `w1`, `w2` are already suggestive that these can be used like the trainable parameters of a classical machine learning model. But we could also call the control parameters `x1`, `x2` and encode data features into quantum states. "
      ]
    },
    {
      "cell_type": "markdown",
      "metadata": {
        "id": "1fKFXs7OI86m"
      },
      "source": [
        "## 3. A full quantum machine learning model and its gradient"
      ]
    },
    {
      "cell_type": "markdown",
      "metadata": {
        "id": "QBEgX2RNI86n"
      },
      "source": [
        "Finally, we can use pre-coded routines or [templates](https://pennylane.readthedocs.io/en/stable/introduction/templates.html) to conveniently build full quantum machine learning model that include a data encoding part, and a trainable part.\n",
        "\n",
        "<br />\n",
        "<img src=\"https://github.com/XanaduAI/pennylane-demo-cern/blob/main/figures/7.png?raw=1\" width=\"500\">\n",
        "<br />\n",
        "\n",
        "Here, we will use the `AngleEmbedding` template to load the data, and the `BasicEntanglingLayers` as the trainable part of the circuit."
      ]
    },
    {
      "cell_type": "code",
      "metadata": {
        "colab": {
          "base_uri": "https://localhost:8080/"
        },
        "id": "qH4f8vYFI86n",
        "outputId": "456ff30a-7ef0-4eae-f632-03d0fea1e2f4"
      },
      "source": [
        "@qml.qnode(dev)\n",
        "def quantum_model(x, w):\n",
        "    qml.templates.AngleEmbedding(x, wires=[0, 1])\n",
        "    qml.templates.BasicEntanglerLayers(w, wires=[0, 1])\n",
        "    return qml.expval(qml.PauliZ(wires=0))\n",
        "\n",
        "\n",
        "x = np.array([0.1, 0.2], requires_grad=False)\n",
        "w = np.array([[-2.1, 1.2], [-1.4, -3.9], [0.5, 0.2]])\n",
        "\n",
        "quantum_model(x, w)"
      ],
      "execution_count": 15,
      "outputs": [
        {
          "output_type": "execute_result",
          "data": {
            "text/plain": [
              "tensor(0.012023, requires_grad=True)"
            ]
          },
          "metadata": {
            "tags": []
          },
          "execution_count": 15
        }
      ]
    },
    {
      "cell_type": "markdown",
      "metadata": {
        "id": "I-TOEGNdsUNx"
      },
      "source": [
        "We can draw the circuit."
      ]
    },
    {
      "cell_type": "code",
      "metadata": {
        "colab": {
          "base_uri": "https://localhost:8080/"
        },
        "id": "Ke03t-8ysP3V",
        "outputId": "29f88e2e-72c1-44bf-90ec-43995bfdc3ff"
      },
      "source": [
        "print(quantum_model.draw())\n",
        "# This is a layer template!"
      ],
      "execution_count": 16,
      "outputs": [
        {
          "output_type": "stream",
          "text": [
            " 0: ──RX(0.1)──RX(-2.1)──╭C──RX(-1.4)──╭C──RX(0.5)──╭C──┤ ⟨Z⟩ \n",
            " 1: ──RX(0.2)──RX(1.2)───╰X──RX(-3.9)──╰X──RX(0.2)──╰X──┤     \n",
            "\n"
          ],
          "name": "stdout"
        }
      ]
    },
    {
      "cell_type": "markdown",
      "metadata": {
        "id": "BSyTK18DI86n"
      },
      "source": [
        "The best thing is that by using PennyLane, we can easily compute its gradient!"
      ]
    },
    {
      "cell_type": "code",
      "metadata": {
        "id": "TH2NCZFkI86n",
        "colab": {
          "base_uri": "https://localhost:8080/"
        },
        "outputId": "7ef62deb-8362-4a37-dba2-923b2e6a82df"
      },
      "source": [
        "gradient_fn = qml.grad(quantum_model)\n",
        "\n",
        "gradient_fn(x, w)"
      ],
      "execution_count": 17,
      "outputs": [
        {
          "output_type": "execute_result",
          "data": {
            "text/plain": [
              "(array([[ 1.69541373e-01, -5.81132364e-17],\n",
              "        [ 6.97079563e-02, -6.93889390e-18],\n",
              "        [ 1.69541373e-01,  2.16840434e-17]]),)"
            ]
          },
          "metadata": {
            "tags": []
          },
          "execution_count": 17
        }
      ]
    },
    {
      "cell_type": "markdown",
      "metadata": {
        "id": "aG3rOjcOI86o"
      },
      "source": [
        "This allows us to slot the quantum circuit into the machine learning example from the previous notebook."
      ]
    },
    {
      "cell_type": "markdown",
      "metadata": {
        "id": "EzByfrW4I86o"
      },
      "source": [
        "#  TASKS \n",
        "\n",
        "1. Copy and paste the code from the previous notebook to here and replace the classical model by \n",
        "   the `quantum_model` function. This will allow you to train the model!\n",
        "\n",
        "2. Add a bias term to the quantum model.\n",
        "\n",
        "3. Replace the hand-coded optimisation step by a native [PennyLane optimiser](https://pennylane.readthedocs.io/en/stable/introduction/optimizers.html).\n",
        "\n",
        "4. Rewrite the entire example in PyTorch. \n",
        "\n",
        "   Tipp: You must set the qnode to the correct interface via `@qml.qnode(dev, interface='tf')`."
      ]
    },
    {
      "cell_type": "code",
      "metadata": {
        "id": "3tXR6ygNI86o"
      },
      "source": [
        ""
      ],
      "execution_count": null,
      "outputs": []
    }
  ]
}