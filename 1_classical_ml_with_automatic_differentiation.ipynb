{
  "nbformat": 4,
  "nbformat_minor": 0,
  "metadata": {
    "colab": {
      "name": "1-classical-ml-with-automatic-differentiation.ipynb",
      "provenance": [],
      "collapsed_sections": [],
      "include_colab_link": true
    },
    "kernelspec": {
      "display_name": "cern_tutorial",
      "language": "python",
      "name": "cern_tutorial"
    },
    "language_info": {
      "codemirror_mode": {
        "name": "ipython",
        "version": 3
      },
      "file_extension": ".py",
      "mimetype": "text/x-python",
      "name": "python",
      "nbconvert_exporter": "python",
      "pygments_lexer": "ipython3",
      "version": "3.8.5"
    }
  },
  "cells": [
    {
      "cell_type": "markdown",
      "metadata": {
        "id": "view-in-github",
        "colab_type": "text"
      },
      "source": [
        "<a href=\"https://colab.research.google.com/github/SaashaJoshi/pennylane-demo-cern/blob/main/1_classical_ml_with_automatic_differentiation.ipynb\" target=\"_parent\"><img src=\"https://colab.research.google.com/assets/colab-badge.svg\" alt=\"Open In Colab\"/></a>"
      ]
    },
    {
      "cell_type": "code",
      "metadata": {
        "id": "BO15OdxKIqzO"
      },
      "source": [
        "%%capture \n",
        "\n",
        "# Comment this out if you don't want to install pennylane from this notebook\n",
        "!pip install pennylane\n",
        "\n",
        "# Comment this out if you don't want to install matplotlib from this notebook\n",
        "!pip install matplotlib"
      ],
      "execution_count": 18,
      "outputs": []
    },
    {
      "cell_type": "markdown",
      "metadata": {
        "id": "a1wTPd1bIqzY"
      },
      "source": [
        "# Training a machine learning model with automatic differentiation"
      ]
    },
    {
      "cell_type": "markdown",
      "metadata": {
        "id": "OEpTCnDfIqzZ"
      },
      "source": [
        "In this tutorial we will: \n",
        "\n",
        "* implement a toy version of a typical machine learning setup,\n",
        "* understand how automatic differentiation allows us to compute gradients of the machine learning model, and\n",
        "* use automatic differentiation to train the model.\n",
        "\n",
        "First some imports..."
      ]
    },
    {
      "cell_type": "code",
      "metadata": {
        "id": "pgyvgjxaIqzX"
      },
      "source": [
        "import pennylane as qml\n",
        "from pennylane import numpy as np # This will import a special, \"differentiable\" version of numpy.\n",
        "\n",
        "import matplotlib.pyplot as plt\n",
        "%matplotlib inline\n",
        "\n",
        "np.random.seed(42)"
      ],
      "execution_count": 19,
      "outputs": []
    },
    {
      "cell_type": "code",
      "metadata": {
        "id": "p2FlqK33OcOJ",
        "colab": {
          "base_uri": "https://localhost:8080/"
        },
        "outputId": "87e215a1-18b5-4d28-bf2c-3a7bc1e55f0a"
      },
      "source": [
        "np.array([0.1, -0.9])    # This is a tensor array with gradient"
      ],
      "execution_count": 20,
      "outputs": [
        {
          "output_type": "execute_result",
          "data": {
            "text/plain": [
              "tensor([ 0.1, -0.9], requires_grad=True)"
            ]
          },
          "metadata": {
            "tags": []
          },
          "execution_count": 20
        }
      ]
    },
    {
      "cell_type": "code",
      "metadata": {
        "id": "TWEilus-OjEo",
        "colab": {
          "base_uri": "https://localhost:8080/"
        },
        "outputId": "e44d581e-2c80-4541-b9b1-1a79700fdfb6"
      },
      "source": [
        "import numpy as vanilla_np\n",
        "\n",
        "vanilla_np.array([0.1, -0.9])"
      ],
      "execution_count": 21,
      "outputs": [
        {
          "output_type": "execute_result",
          "data": {
            "text/plain": [
              "array([ 0.1, -0.9])"
            ]
          },
          "metadata": {
            "tags": []
          },
          "execution_count": 21
        }
      ]
    },
    {
      "cell_type": "code",
      "metadata": {
        "id": "sw9AhMXtO2xt",
        "colab": {
          "base_uri": "https://localhost:8080/",
          "height": 282
        },
        "outputId": "260566d2-34ab-4dfc-aef5-b5bfce57e232"
      },
      "source": [
        "x_axis = np.linspace(0, 6)\n",
        "function_sin = np.sin(x_axis)\n",
        "\n",
        "plt.plot(x_axis, function_sin)"
      ],
      "execution_count": 22,
      "outputs": [
        {
          "output_type": "execute_result",
          "data": {
            "text/plain": [
              "[<matplotlib.lines.Line2D at 0x7fd9b5fc66d8>]"
            ]
          },
          "metadata": {
            "tags": []
          },
          "execution_count": 22
        },
        {
          "output_type": "display_data",
          "data": {
            "image/png": "[encoded data removed]",
            "text/plain": [
              "<Figure size 432x288 with 1 Axes>"
            ]
          },
          "metadata": {
            "tags": [],
            "needs_background": "light"
          }
        }
      ]
    },
    {
      "cell_type": "code",
      "metadata": {
        "id": "6jpYRazoPCAp",
        "colab": {
          "base_uri": "https://localhost:8080/",
          "height": 282
        },
        "outputId": "8e89c553-c7ae-4ec7-cb4f-d517c1ea0e9d"
      },
      "source": [
        "# We can find the gradient of the above function too. \n",
        "# In a vanilla numpy version, we cannot differentiate!\n",
        "\n",
        "gradient_fnc = qml.grad(np.sin, argnum = 0)\n",
        "\n",
        "g = [gradient_fnc(x) for x in x_axis]\n",
        "\n",
        "plt.plot(x_axis, function_sin)\n",
        "plt.plot(x_axis, g)"
      ],
      "execution_count": 23,
      "outputs": [
        {
          "output_type": "execute_result",
          "data": {
            "text/plain": [
              "[<matplotlib.lines.Line2D at 0x7fd9b657ef60>]"
            ]
          },
          "metadata": {
            "tags": []
          },
          "execution_count": 23
        },
        {
          "output_type": "display_data",
          "data": {
            "image/png": "[encoded data removed]",
            "text/plain": [
              "<Figure size 432x288 with 1 Axes>"
            ]
          },
          "metadata": {
            "tags": [],
            "needs_background": "light"
          }
        }
      ]
    },
    {
      "cell_type": "markdown",
      "metadata": {
        "id": "qDBgcel5IqzZ"
      },
      "source": [
        "## 1. The three basic ingredients"
      ]
    },
    {
      "cell_type": "markdown",
      "metadata": {
        "id": "3kDt_140Iqza"
      },
      "source": [
        "A machine learning problem usually consists of *data*, a *model (family)* and a *cost function*: \n",
        "\n",
        "<br />\n",
        "<img src=\"https://github.com/XanaduAI/pennylane-demo-cern/blob/main/figures/data-model-cost.png?raw=1\" width=\"500\">\n",
        "<br />\n",
        "\n",
        "*Training* selects the best model from the family by minimising the cost on a training set of data samples. If we design the optimisation problem well, the trained model will also have a low cost on new sets of data samples that have not been used in training. This means that the model *generalises* well. \n",
        "\n",
        "We will now create examples for each ingredient."
      ]
    },
    {
      "cell_type": "markdown",
      "metadata": {
        "id": "4Hd3Pt8iIqzb"
      },
      "source": [
        "### Data\n",
        "\n",
        "Let us create a two-dimensional toy dataset."
      ]
    },
    {
      "cell_type": "code",
      "metadata": {
        "colab": {
          "base_uri": "https://localhost:8080/",
          "height": 265
        },
        "id": "ISZgnXGQIqzb",
        "outputId": "42066af4-8eeb-4b17-b13a-fb4a4f184dcc"
      },
      "source": [
        "n_samples = 100\n",
        "X0 = np.array([[np.random.normal(loc=-1, scale=1), \n",
        "                np.random.normal(loc=1, scale=1)] for i in range(n_samples//2)]) \n",
        "X1 = np.array([[np.random.normal(loc=1, scale=1), \n",
        "                np.random.normal(loc=-1, scale=1)] for i in range(n_samples//2)]) \n",
        "X = np.concatenate([X0, X1], axis=0)    # Concatenate both X0 and X1 into a single tensor.\n",
        "Y = np.concatenate([-np.ones(50), np.ones(50)], axis=0)\n",
        "data = list(zip(X, Y))\n",
        "\n",
        "\n",
        "plt.scatter(X0[:,0], X0[:,1])\n",
        "plt.scatter(X1[:,0], X1[:,1])\n",
        "plt.show()"
      ],
      "execution_count": 24,
      "outputs": [
        {
          "output_type": "display_data",
          "data": {
            "image/png": "[encoded data removed]",
            "text/plain": [
              "<Figure size 432x288 with 1 Axes>"
            ]
          },
          "metadata": {
            "tags": [],
            "needs_background": "light"
          }
        }
      ]
    },
    {
      "cell_type": "code",
      "metadata": {
        "id": "EZVjaczoP_3X",
        "colab": {
          "base_uri": "https://localhost:8080/"
        },
        "outputId": "de4b9190-5637-40e8-f617-9c419610e18e"
      },
      "source": [
        "X.shape"
      ],
      "execution_count": 25,
      "outputs": [
        {
          "output_type": "execute_result",
          "data": {
            "text/plain": [
              "(100, 2)"
            ]
          },
          "metadata": {
            "tags": []
          },
          "execution_count": 25
        }
      ]
    },
    {
      "cell_type": "markdown",
      "metadata": {
        "id": "I6j7011GIqzd"
      },
      "source": [
        "### Model family\n",
        "\n",
        "Next, we construct a linear model."
      ]
    },
    {
      "cell_type": "code",
      "metadata": {
        "id": "QFtKP4kLIqze"
      },
      "source": [
        "def model(x, w):\n",
        "    return np.dot(x, w)"
      ],
      "execution_count": 26,
      "outputs": []
    },
    {
      "cell_type": "markdown",
      "metadata": {
        "id": "oXtG0RrNIqze"
      },
      "source": [
        "Let's try it out."
      ]
    },
    {
      "cell_type": "code",
      "metadata": {
        "colab": {
          "base_uri": "https://localhost:8080/"
        },
        "id": "Aeqn8-F5Iqzf",
        "outputId": "facd87cb-671d-430b-8473-4a7b2bccbcef"
      },
      "source": [
        "w = np.array([-0.5, -0.2])\n",
        "\n",
        "model(X0[0], w)\n",
        "# model(X0[1], w)\n",
        "\n",
        "# If we put a threshold at zero (0), X0[0] would be classified in class +1 and X0[1] will be classified in class -1"
      ],
      "execution_count": 10,
      "outputs": [
        {
          "output_type": "execute_result",
          "data": {
            "text/plain": [
              "0.07929578372862058"
            ]
          },
          "metadata": {
            "tags": []
          },
          "execution_count": 10
        }
      ]
    },
    {
      "cell_type": "markdown",
      "metadata": {
        "id": "pdYFWBTmIqzf"
      },
      "source": [
        "We can plot the decision boundary, or the boundary in data space where the model flips from a negative to a positive prediction"
      ]
    },
    {
      "cell_type": "code",
      "metadata": {
        "colab": {
          "base_uri": "https://localhost:8080/",
          "height": 265
        },
        "id": "Hj1WsTMzIqzf",
        "outputId": "842fdf5c-093c-479f-c034-3a349a75db17"
      },
      "source": [
        "plt.scatter(X0[:,0], X0[:,1])\n",
        "plt.scatter(X1[:,0], X1[:,1])\n",
        "\n",
        "plt.arrow(0, 0, w[0], w[1], head_width=0.3, head_length=0.3, fc='r', ec='r')\n",
        "plt.plot([-3*w[1], 3*w[1]], [3*w[0], -3*w[0]], 'k-')\n",
        "plt.show()"
      ],
      "execution_count": 27,
      "outputs": [
        {
          "output_type": "display_data",
          "data": {
            "image/png": "[encoded data removed]",
            "text/plain": [
              "<Figure size 432x288 with 1 Axes>"
            ]
          },
          "metadata": {
            "tags": [],
            "needs_background": "light"
          }
        }
      ]
    },
    {
      "cell_type": "markdown",
      "metadata": {
        "id": "KB9PYPxxIqzg"
      },
      "source": [
        "### Cost function\n",
        "\n",
        "How good is the model on a single input-output training pair?"
      ]
    },
    {
      "cell_type": "code",
      "metadata": {
        "id": "pKLdoDYcIqzh"
      },
      "source": [
        "def loss(a, b):\n",
        "    return (a - b)**2    # Square of difference."
      ],
      "execution_count": 28,
      "outputs": []
    },
    {
      "cell_type": "markdown",
      "metadata": {
        "id": "kFmNPQNZIqzh"
      },
      "source": [
        "What is the average loss on a data set of multiple pairs?"
      ]
    },
    {
      "cell_type": "code",
      "metadata": {
        "id": "CUmhMBauIqzh"
      },
      "source": [
        "def average_loss(w, data):\n",
        "    c = 0\n",
        "    for x, y in data:\n",
        "        prediction = model(x, w)\n",
        "        c += loss(prediction, y)\n",
        "    return c/len(data)"
      ],
      "execution_count": 29,
      "outputs": []
    },
    {
      "cell_type": "code",
      "metadata": {
        "colab": {
          "base_uri": "https://localhost:8080/"
        },
        "id": "YmX4e_CyIqzj",
        "outputId": "2b94369f-b7e9-44e5-d155-e857f6bd6c69"
      },
      "source": [
        "w = np.array([1.3, -0.4])\n",
        "average_loss(w, data)"
      ],
      "execution_count": 30,
      "outputs": [
        {
          "output_type": "execute_result",
          "data": {
            "text/plain": [
              "1.8504767821580002"
            ]
          },
          "metadata": {
            "tags": []
          },
          "execution_count": 30
        }
      ]
    },
    {
      "cell_type": "markdown",
      "metadata": {
        "id": "WbmS0U3nIqzj"
      },
      "source": [
        "## 2. Automatic computation of  gradients\n",
        "\n",
        "Because we imported PennyLane's numpy version, we can now compute gradients of the average loss with respect to the weights!"
      ]
    },
    {
      "cell_type": "code",
      "metadata": {
        "colab": {
          "base_uri": "https://localhost:8080/"
        },
        "id": "6Z3LKFGYIqzk",
        "outputId": "9ce2e644-76b2-4b65-928d-48c1f72ebb3b"
      },
      "source": [
        "gradient_fn = qml.grad(average_loss, argnum=0)\n",
        "gradient_fn(w, data)"
      ],
      "execution_count": 31,
      "outputs": [
        {
          "output_type": "execute_result",
          "data": {
            "text/plain": [
              "array([ 3.29902953, -1.94918243])"
            ]
          },
          "metadata": {
            "tags": []
          },
          "execution_count": 31
        }
      ]
    },
    {
      "cell_type": "markdown",
      "metadata": {
        "id": "lspDW_OfIqzk"
      },
      "source": [
        "We can use gradients to guess better candidates for parameters."
      ]
    },
    {
      "cell_type": "code",
      "metadata": {
        "id": "anRw4PftIqzt"
      },
      "source": [
        "w_new = w - 0.05*gradient_fn(w, data)"
      ],
      "execution_count": 32,
      "outputs": []
    },
    {
      "cell_type": "code",
      "metadata": {
        "colab": {
          "base_uri": "https://localhost:8080/"
        },
        "id": "hpThoHzdIqzu",
        "outputId": "65788d36-bb1a-496f-d05d-358e8f3a4adc"
      },
      "source": [
        "average_loss(w_new, data)"
      ],
      "execution_count": 33,
      "outputs": [
        {
          "output_type": "execute_result",
          "data": {
            "text/plain": [
              "1.2102626825705949"
            ]
          },
          "metadata": {
            "tags": []
          },
          "execution_count": 33
        }
      ]
    },
    {
      "cell_type": "markdown",
      "metadata": {
        "id": "EaBlvl9UdxEg"
      },
      "source": [
        "This works because the gradient always points towards the steepest ascent in the cost landscape."
      ]
    },
    {
      "cell_type": "code",
      "metadata": {
        "colab": {
          "base_uri": "https://localhost:8080/",
          "height": 285
        },
        "id": "FyjCbeNUdHYS",
        "outputId": "994b9bf3-9133-4358-a257-16b0d699498f"
      },
      "source": [
        "# compute the gradient at some point in parameter space\n",
        "some_w = np.array([-0.6, 0.5])\n",
        "g = 0.01*gradient_fn(some_w, data)\n",
        "# learning rate = 0.01 here above!\n",
        "\n",
        "# make a contourplot of the cost\n",
        "w1s = np.linspace(-2, 2)\n",
        "w2s = np.linspace(-2, 2)\n",
        "cost_grid = []\n",
        "for w1 in w1s:\n",
        "    for w2 in w2s:\n",
        "        w = np.array([w1, w2])\n",
        "        cost_grid.append(average_loss(w, data))\n",
        "cost_grid = np.array(cost_grid).reshape((50, 50))\n",
        "plt.contourf(w1s, w2s, cost_grid.T)\n",
        "\n",
        "plt.arrow(some_w[0], some_w[1], some_w[0] + g[0], some_w[1] + g[1], \n",
        "          head_width=0.3, head_length=0.3, fc='r', ec='r')\n",
        "plt.xlabel(r\"$w_1$\")\n",
        "plt.ylabel(r\"$w_2$\")\n",
        "plt.show()"
      ],
      "execution_count": 34,
      "outputs": [
        {
          "output_type": "display_data",
          "data": {
            "image/png": "[encoded data removed]",
            "text/plain": [
              "<Figure size 432x288 with 1 Axes>"
            ]
          },
          "metadata": {
            "tags": [],
            "needs_background": "light"
          }
        }
      ]
    },
    {
      "cell_type": "markdown",
      "metadata": {
        "id": "A6DHQzw1Iqzv"
      },
      "source": [
        "## 3. Training with gradient descent\n",
        "\n",
        "Putting it all together, we can train the linear model."
      ]
    },
    {
      "cell_type": "code",
      "metadata": {
        "colab": {
          "base_uri": "https://localhost:8080/"
        },
        "id": "zfZZLaUeIqzv",
        "outputId": "20c7a939-6447-44de-88ba-636843c5da92"
      },
      "source": [
        "w_init = np.random.random(size=(2,))\n",
        "w = np.array(w_init)\n",
        "\n",
        "history = []\n",
        "for i in range(15):\n",
        "    w_new = w - 0.05*gradient_fn(w, data)\n",
        "    print(average_loss(w_new, data))\n",
        "    history.append(w_new)\n",
        "    w = w_new"
      ],
      "execution_count": 35,
      "outputs": [
        {
          "output_type": "stream",
          "text": [
            "1.3500100407100541\n",
            "1.102185220934838\n",
            "0.9290184060813585\n",
            "0.8027576735134763\n",
            "0.7073372523673335\n",
            "0.6331673539752455\n",
            "0.5743007976098509\n",
            "0.5268826928791955\n",
            "0.488294380852497\n",
            "0.45667438524266574\n",
            "0.4306452071742513\n",
            "0.4091534224361\n",
            "0.3913728909446769\n",
            "0.376643727003794\n",
            "0.3644320177904416\n"
          ],
          "name": "stdout"
        }
      ]
    },
    {
      "cell_type": "markdown",
      "metadata": {
        "id": "PhNFIkjGOVoE"
      },
      "source": [
        "We can easily visualise the path that gradient descent took in parameter space."
      ]
    },
    {
      "cell_type": "code",
      "metadata": {
        "colab": {
          "base_uri": "https://localhost:8080/",
          "height": 285
        },
        "id": "W52Va1_Xdv2m",
        "outputId": "39e717c6-fd91-43f7-eacb-c53068b6dd5a"
      },
      "source": [
        "plt.contourf(w1s, w2s, cost_grid.T)\n",
        "history = np.array(history)\n",
        "plt.plot(history[:, 0], history[:, 1], \"-o\")\n",
        "plt.xlabel(r\"$w_1$\")\n",
        "plt.ylabel(r\"$w_2$\")\n",
        "plt.show()"
      ],
      "execution_count": 36,
      "outputs": [
        {
          "output_type": "display_data",
          "data": {
            "image/png": "[encoded data removed]",
            "text/plain": [
              "<Figure size 432x288 with 1 Axes>"
            ]
          },
          "metadata": {
            "tags": [],
            "needs_background": "light"
          }
        }
      ]
    },
    {
      "cell_type": "markdown",
      "metadata": {
        "id": "Nzt6VOS1OVoF"
      },
      "source": [
        "Training didn't fully converge yet, but the decision boundary is already better."
      ]
    },
    {
      "cell_type": "code",
      "metadata": {
        "colab": {
          "base_uri": "https://localhost:8080/",
          "height": 265
        },
        "id": "GhWrlpcDIqzw",
        "outputId": "d586097b-9efa-40a9-ab68-0a5380cb63c3"
      },
      "source": [
        "plt.scatter(X0[:,0], X0[:,1])\n",
        "plt.scatter(X1[:,0], X1[:,1])\n",
        "\n",
        "plt.arrow(0, 0, w[0], w[1], head_width=0.3, head_length=0.3, fc='r', ec='r')\n",
        "plt.plot([-3*w[1], 3*w[1]], [3*w[0], -3*w[0]], 'k-')\n",
        "plt.show()"
      ],
      "execution_count": 37,
      "outputs": [
        {
          "output_type": "display_data",
          "data": {
            "image/png": "[encoded data removed]",
            "text/plain": [
              "<Figure size 432x288 with 1 Axes>"
            ]
          },
          "metadata": {
            "tags": [],
            "needs_background": "light"
          }
        }
      ]
    },
    {
      "cell_type": "markdown",
      "metadata": {
        "id": "lmaw2mGpIqzw"
      },
      "source": [
        "# TASKS \n",
        "\n",
        "\n",
        "\n",
        "1. Add a constant scalar bias term $b \\in \\mathbb{R}$ to the model,\n",
        "\n",
        "    $$ f(x, w) = \\langle w, x \\rangle + b, $$\n",
        "\n",
        "   and train both $w$ and $b$ at the same time.\n",
        "   \n",
        "\n",
        "2. Change the model to a neural network with a single hidden layer.\n",
        "\n",
        "    $$ f(x, w, W) = \\langle w, \\varphi(Wx) \\rangle,$$\n",
        "\n",
        "   where $W$ is a weight matrix of suitable dimension and $\\varphi$ a hand-coded nonlinar activation function. \n",
        "   \n",
        "   Tipp: You can use the vector-valued sigmoid function \n",
        "   \n",
        "   ```\n",
        "   def sigmoid(z):\n",
        "        return 1/(1 + np.exp(-x))\n",
        "   ```\n",
        "   \n",
        "\n",
        "3. Code up the above example using PyTorch."
      ]
    },
    {
      "cell_type": "code",
      "metadata": {
        "id": "26eR11IIIqzx"
      },
      "source": [
        "n_samples = 100\n",
        "X0 = np.array([[np.random.normal(loc=-1, scale=1), \n",
        "                np.random.normal(loc=1, scale=1)] for i in range(n_samples//2)]) \n",
        "X1 = np.array([[np.random.normal(loc=1, scale=1), \n",
        "                np.random.normal(loc=-1, scale=1)] for i in range(n_samples//2)]) \n",
        "X = np.concatenate([X0, X1], axis=0)    # Concatenate both X0 and X1 into a single tensor.\n",
        "Y = np.concatenate([-np.ones(50), np.ones(50)], axis=0)\n",
        "data = list(zip(X, Y))\n",
        "\n",
        "\n",
        "plt.scatter(X0[:,0], X0[:,1])\n",
        "plt.scatter(X1[:,0], X1[:,1])\n",
        "plt.show()"
      ],
      "execution_count": null,
      "outputs": []
    },
    {
      "cell_type": "code",
      "metadata": {
        "id": "x1uih0C3S9RF",
        "colab": {
          "base_uri": "https://localhost:8080/",
          "height": 374
        },
        "outputId": "145e88f2-cc1f-479f-d7ed-e5bd61dbcfa9"
      },
      "source": [
        "samples = 100\n",
        "\n",
        "# Class 1\n",
        "X_1 = np.array([[np.random.normal, np.random.normal] for i in range(samples//2)])\n",
        "\n",
        "# Class 2\n",
        "X_2 = np.array([[np.random.normal, np.random.normal] for i in range(samples//2)])\n",
        "\n",
        "# Bias\n",
        "bias = np.array([n.random.normal] for i in range(samples))\n",
        "\n",
        "X = np.concatenate([X_1, X_2], axis = 0)\n",
        "X_data = np.add(X, bias)\n",
        "\n",
        "Y_class_data = np.concatenate([-np.ones(50), np.ones(50)], axis = 0)\n",
        "\n",
        "data = list(zip(X_data, Y_class_data))\n",
        "\n",
        "print(X_data)"
      ],
      "execution_count": 39,
      "outputs": [
        {
          "output_type": "error",
          "ename": "TypeError",
          "evalue": "ignored",
          "traceback": [
            "\u001b[0;31m---------------------------------------------------------------------------\u001b[0m",
            "\u001b[0;31mTypeError\u001b[0m                                 Traceback (most recent call last)",
            "\u001b[0;32m<ipython-input-39-8a29bddd87e1>\u001b[0m in \u001b[0;36m<module>\u001b[0;34m()\u001b[0m\n\u001b[1;32m     11\u001b[0m \u001b[0;34m\u001b[0m\u001b[0m\n\u001b[1;32m     12\u001b[0m \u001b[0mX\u001b[0m \u001b[0;34m=\u001b[0m \u001b[0mnp\u001b[0m\u001b[0;34m.\u001b[0m\u001b[0mconcatenate\u001b[0m\u001b[0;34m(\u001b[0m\u001b[0;34m[\u001b[0m\u001b[0mX_1\u001b[0m\u001b[0;34m,\u001b[0m \u001b[0mX_2\u001b[0m\u001b[0;34m]\u001b[0m\u001b[0;34m,\u001b[0m \u001b[0maxis\u001b[0m \u001b[0;34m=\u001b[0m \u001b[0;36m0\u001b[0m\u001b[0;34m)\u001b[0m\u001b[0;34m\u001b[0m\u001b[0;34m\u001b[0m\u001b[0m\n\u001b[0;32m---> 13\u001b[0;31m \u001b[0mX_data\u001b[0m \u001b[0;34m=\u001b[0m \u001b[0mnp\u001b[0m\u001b[0;34m.\u001b[0m\u001b[0madd\u001b[0m\u001b[0;34m(\u001b[0m\u001b[0mX\u001b[0m\u001b[0;34m,\u001b[0m \u001b[0mbias\u001b[0m\u001b[0;34m)\u001b[0m\u001b[0;34m\u001b[0m\u001b[0;34m\u001b[0m\u001b[0m\n\u001b[0m\u001b[1;32m     14\u001b[0m \u001b[0;34m\u001b[0m\u001b[0m\n\u001b[1;32m     15\u001b[0m \u001b[0mY_class_data\u001b[0m \u001b[0;34m=\u001b[0m \u001b[0mnp\u001b[0m\u001b[0;34m.\u001b[0m\u001b[0mconcatenate\u001b[0m\u001b[0;34m(\u001b[0m\u001b[0;34m[\u001b[0m\u001b[0;34m-\u001b[0m\u001b[0mnp\u001b[0m\u001b[0;34m.\u001b[0m\u001b[0mones\u001b[0m\u001b[0;34m(\u001b[0m\u001b[0;36m50\u001b[0m\u001b[0;34m)\u001b[0m\u001b[0;34m,\u001b[0m \u001b[0mnp\u001b[0m\u001b[0;34m.\u001b[0m\u001b[0mones\u001b[0m\u001b[0;34m(\u001b[0m\u001b[0;36m50\u001b[0m\u001b[0;34m)\u001b[0m\u001b[0;34m]\u001b[0m\u001b[0;34m,\u001b[0m \u001b[0maxis\u001b[0m \u001b[0;34m=\u001b[0m \u001b[0;36m0\u001b[0m\u001b[0;34m)\u001b[0m\u001b[0;34m\u001b[0m\u001b[0;34m\u001b[0m\u001b[0m\n",
            "\u001b[0;32m/usr/local/lib/python3.6/dist-packages/pennylane/numpy/wrapper.py\u001b[0m in \u001b[0;36m_wrapped\u001b[0;34m(*args, **kwargs)\u001b[0m\n\u001b[1;32m     73\u001b[0m \u001b[0;34m\u001b[0m\u001b[0m\n\u001b[1;32m     74\u001b[0m         \u001b[0;31m# evaluate the original object\u001b[0m\u001b[0;34m\u001b[0m\u001b[0;34m\u001b[0m\u001b[0;34m\u001b[0m\u001b[0m\n\u001b[0;32m---> 75\u001b[0;31m         \u001b[0mres\u001b[0m \u001b[0;34m=\u001b[0m \u001b[0mobj\u001b[0m\u001b[0;34m(\u001b[0m\u001b[0;34m*\u001b[0m\u001b[0margs\u001b[0m\u001b[0;34m,\u001b[0m \u001b[0;34m**\u001b[0m\u001b[0mkwargs\u001b[0m\u001b[0;34m)\u001b[0m\u001b[0;34m\u001b[0m\u001b[0;34m\u001b[0m\u001b[0m\n\u001b[0m\u001b[1;32m     76\u001b[0m \u001b[0;34m\u001b[0m\u001b[0m\n\u001b[1;32m     77\u001b[0m         \u001b[0;32mif\u001b[0m \u001b[0misinstance\u001b[0m\u001b[0;34m(\u001b[0m\u001b[0mres\u001b[0m\u001b[0;34m,\u001b[0m \u001b[0m_np\u001b[0m\u001b[0;34m.\u001b[0m\u001b[0mndarray\u001b[0m\u001b[0;34m)\u001b[0m\u001b[0;34m:\u001b[0m\u001b[0;34m\u001b[0m\u001b[0;34m\u001b[0m\u001b[0m\n",
            "\u001b[0;32m/usr/local/lib/python3.6/dist-packages/autograd/tracer.py\u001b[0m in \u001b[0;36mf_wrapped\u001b[0;34m(*args, **kwargs)\u001b[0m\n\u001b[1;32m     46\u001b[0m             \u001b[0;32mreturn\u001b[0m \u001b[0mnew_box\u001b[0m\u001b[0;34m(\u001b[0m\u001b[0mans\u001b[0m\u001b[0;34m,\u001b[0m \u001b[0mtrace\u001b[0m\u001b[0;34m,\u001b[0m \u001b[0mnode\u001b[0m\u001b[0;34m)\u001b[0m\u001b[0;34m\u001b[0m\u001b[0;34m\u001b[0m\u001b[0m\n\u001b[1;32m     47\u001b[0m         \u001b[0;32melse\u001b[0m\u001b[0;34m:\u001b[0m\u001b[0;34m\u001b[0m\u001b[0;34m\u001b[0m\u001b[0m\n\u001b[0;32m---> 48\u001b[0;31m             \u001b[0;32mreturn\u001b[0m \u001b[0mf_raw\u001b[0m\u001b[0;34m(\u001b[0m\u001b[0;34m*\u001b[0m\u001b[0margs\u001b[0m\u001b[0;34m,\u001b[0m \u001b[0;34m**\u001b[0m\u001b[0mkwargs\u001b[0m\u001b[0;34m)\u001b[0m\u001b[0;34m\u001b[0m\u001b[0;34m\u001b[0m\u001b[0m\n\u001b[0m\u001b[1;32m     49\u001b[0m     \u001b[0mf_wrapped\u001b[0m\u001b[0;34m.\u001b[0m\u001b[0mfun\u001b[0m \u001b[0;34m=\u001b[0m \u001b[0mf_raw\u001b[0m\u001b[0;34m\u001b[0m\u001b[0;34m\u001b[0m\u001b[0m\n\u001b[1;32m     50\u001b[0m     \u001b[0mf_wrapped\u001b[0m\u001b[0;34m.\u001b[0m\u001b[0m_is_autograd_primitive\u001b[0m \u001b[0;34m=\u001b[0m \u001b[0;32mTrue\u001b[0m\u001b[0;34m\u001b[0m\u001b[0;34m\u001b[0m\u001b[0m\n",
            "\u001b[0;32m/usr/local/lib/python3.6/dist-packages/pennylane/numpy/tensor.py\u001b[0m in \u001b[0;36m__array_ufunc__\u001b[0;34m(self, ufunc, method, *inputs, **kwargs)\u001b[0m\n\u001b[1;32m    153\u001b[0m         \u001b[0;31m# call the ndarray.__array_ufunc__ method to compute the result\u001b[0m\u001b[0;34m\u001b[0m\u001b[0;34m\u001b[0m\u001b[0;34m\u001b[0m\u001b[0m\n\u001b[1;32m    154\u001b[0m         \u001b[0;31m# of the vectorized ufunc\u001b[0m\u001b[0;34m\u001b[0m\u001b[0;34m\u001b[0m\u001b[0;34m\u001b[0m\u001b[0m\n\u001b[0;32m--> 155\u001b[0;31m         \u001b[0mres\u001b[0m \u001b[0;34m=\u001b[0m \u001b[0msuper\u001b[0m\u001b[0;34m(\u001b[0m\u001b[0;34m)\u001b[0m\u001b[0;34m.\u001b[0m\u001b[0m__array_ufunc__\u001b[0m\u001b[0;34m(\u001b[0m\u001b[0mufunc\u001b[0m\u001b[0;34m,\u001b[0m \u001b[0mmethod\u001b[0m\u001b[0;34m,\u001b[0m \u001b[0;34m*\u001b[0m\u001b[0margs\u001b[0m\u001b[0;34m,\u001b[0m \u001b[0;34m**\u001b[0m\u001b[0mkwargs\u001b[0m\u001b[0;34m)\u001b[0m\u001b[0;34m\u001b[0m\u001b[0;34m\u001b[0m\u001b[0m\n\u001b[0m\u001b[1;32m    156\u001b[0m \u001b[0;34m\u001b[0m\u001b[0m\n\u001b[1;32m    157\u001b[0m         \u001b[0;32mif\u001b[0m \u001b[0mufunc\u001b[0m\u001b[0;34m.\u001b[0m\u001b[0mnout\u001b[0m \u001b[0;34m==\u001b[0m \u001b[0;36m1\u001b[0m\u001b[0;34m:\u001b[0m\u001b[0;34m\u001b[0m\u001b[0;34m\u001b[0m\u001b[0m\n",
            "\u001b[0;31mTypeError\u001b[0m: unsupported operand type(s) for +: 'function' and 'generator'"
          ]
        }
      ]
    },
    {
      "cell_type": "code",
      "metadata": {
        "id": "ykKpZQhOUAEA"
      },
      "source": [
        ""
      ],
      "execution_count": null,
      "outputs": []
    }
  ]
}